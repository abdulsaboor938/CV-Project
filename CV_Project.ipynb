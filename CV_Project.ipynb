{
  "nbformat": 4,
  "nbformat_minor": 0,
  "metadata": {
    "colab": {
      "provenance": [],
      "gpuType": "T4"
    },
    "kernelspec": {
      "name": "python3",
      "display_name": "Python 3"
    },
    "language_info": {
      "name": "python"
    },
    "accelerator": "GPU"
  },
  "cells": [
    {
      "cell_type": "code",
      "execution_count": null,
      "metadata": {
        "colab": {
          "base_uri": "https://localhost:8080/"
        },
        "id": "HBuC8_ccR3cy",
        "outputId": "3bf36bb0-046a-4e28-d62e-b4fac42d9e52"
      },
      "outputs": [
        {
          "output_type": "stream",
          "name": "stdout",
          "text": [
            "Mounted at /content/drive\n"
          ]
        }
      ],
      "source": [
        "from google.colab import drive\n",
        "drive.mount('/content/drive')"
      ]
    },
    {
      "cell_type": "code",
      "source": [
        "!cp -r \"/content/drive/MyDrive/all_data\" ./\n"
      ],
      "metadata": {
        "id": "8G8udVFiShE6"
      },
      "execution_count": null,
      "outputs": []
    },
    {
      "cell_type": "code",
      "source": [
        "!mv all_data/* ./"
      ],
      "metadata": {
        "id": "DAEwTZnqTh66"
      },
      "execution_count": null,
      "outputs": []
    },
    {
      "cell_type": "markdown",
      "source": [
        "<hr>"
      ],
      "metadata": {
        "id": "9ImFi1z9T-4Y"
      }
    },
    {
      "cell_type": "code",
      "source": [
        "!pip install ortools"
      ],
      "metadata": {
        "colab": {
          "base_uri": "https://localhost:8080/"
        },
        "id": "-m-LDigDT7D6",
        "outputId": "400c61bf-9427-47e4-ab6f-f3dd8e4e0417"
      },
      "execution_count": null,
      "outputs": [
        {
          "output_type": "stream",
          "name": "stdout",
          "text": [
            "Requirement already satisfied: ortools in /usr/local/lib/python3.10/dist-packages (9.9.3963)\n",
            "Requirement already satisfied: absl-py>=2.0.0 in /usr/local/lib/python3.10/dist-packages (from ortools) (2.1.0)\n",
            "Requirement already satisfied: numpy>=1.13.3 in /usr/local/lib/python3.10/dist-packages (from ortools) (1.25.2)\n",
            "Requirement already satisfied: pandas>=2.0.0 in /usr/local/lib/python3.10/dist-packages (from ortools) (2.0.3)\n",
            "Requirement already satisfied: protobuf>=4.25.3 in /usr/local/lib/python3.10/dist-packages (from ortools) (5.26.1)\n",
            "Requirement already satisfied: immutabledict>=3.0.0 in /usr/local/lib/python3.10/dist-packages (from ortools) (4.2.0)\n",
            "Requirement already satisfied: python-dateutil>=2.8.2 in /usr/local/lib/python3.10/dist-packages (from pandas>=2.0.0->ortools) (2.8.2)\n",
            "Requirement already satisfied: pytz>=2020.1 in /usr/local/lib/python3.10/dist-packages (from pandas>=2.0.0->ortools) (2023.4)\n",
            "Requirement already satisfied: tzdata>=2022.1 in /usr/local/lib/python3.10/dist-packages (from pandas>=2.0.0->ortools) (2024.1)\n",
            "Requirement already satisfied: six>=1.5 in /usr/local/lib/python3.10/dist-packages (from python-dateutil>=2.8.2->pandas>=2.0.0->ortools) (1.16.0)\n"
          ]
        }
      ]
    },
    {
      "cell_type": "code",
      "source": [
        "!python main.py -d datasets/eccv16_dataset_summe_google_pool5.h5 -s splits/summe_splits.json -m summe --gpu 0  --save-dir log/summe-split --split-id 0 --verbose --rnn-cell gru --max-epoch 50 --userscore datasets/summarizer_dataset_summe_google_pool5.h5 --save-results"
      ],
      "metadata": {
        "colab": {
          "base_uri": "https://localhost:8080/"
        },
        "id": "3OhRqksYaVHj",
        "outputId": "2448b794-0dd6-4e6e-885b-df4255e23281"
      },
      "execution_count": null,
      "outputs": [
        {
          "output_type": "stream",
          "name": "stdout",
          "text": [
            "==========\n",
            "Args:Namespace(dataset='datasets/eccv16_dataset_summe_google_pool5.h5', userscore='datasets/summarizer_dataset_summe_google_pool5.h5', split='splits/summe_splits.json', split_id=0, metric='summe', input_dim=1024, hidden_dim=512, num_layers=2, rnn_cell='gru', lr=1e-05, weight_decay=1e-05, max_epoch=50, stepsize=30, gamma=0.1, num_episode=5, beta=0.01, seed=1, gpu='0', use_cpu=False, evaluate=False, save_dir='log/summe-split', resume='', verbose=True, save_results=True)\n",
            "==========\n",
            "Currently using GPU 0\n",
            "Initialize dataset datasets/eccv16_dataset_summe_google_pool5.h5\n",
            "# total videos 25. # train videos 20. # test videos 5\n",
            "Initialize model\n",
            "==> Start training\n",
            "==> Test\n",
            "---  --------  -------\n",
            "No.  Video     F-score\n",
            "1    video_16  28.6%\n",
            "2    video_21  17.4%\n",
            "3    video_25  77.7%\n",
            "4    video_4   51.1%\n",
            "5    video_9   51.3%\n",
            "---  --------  -------\n",
            "Average F1-score 45.2%\n",
            "Average Kendal 0.17533718311585034\n",
            "Average Spear 0.23997465735164458\n",
            "Finished. Total elapsed time (h:m:s): 0:00:22\n",
            "Model saved to log/summe-split/summe_model_epoch_50_split_id_0-gru.pth.tar\n"
          ]
        }
      ]
    },
    {
      "cell_type": "code",
      "source": [
        "!python main.py -d datasets/eccv16_dataset_summe_google_pool5.h5 -s splits/summe_splits.json -m summe --gpu 0  --save-dir log/summe-split --split-id 0 --verbose --rnn-cell gru --max-epoch 50 --userscore datasets/summarizer_dataset_summe_google_pool5.h5 --save-results"
      ],
      "metadata": {
        "colab": {
          "base_uri": "https://localhost:8080/"
        },
        "id": "7B2KIzxXTy1S",
        "outputId": "bc495aba-e56f-4620-c736-d6e56e35cdf7"
      },
      "execution_count": null,
      "outputs": [
        {
          "output_type": "stream",
          "name": "stdout",
          "text": [
            "==========\n",
            "Args:Namespace(dataset='datasets/eccv16_dataset_summe_google_pool5.h5', userscore='datasets/summarizer_dataset_summe_google_pool5.h5', split='splits/summe_splits.json', split_id=0, metric='summe', input_dim=1024, hidden_dim=512, num_layers=2, rnn_cell='gru', lr=1e-05, weight_decay=1e-05, max_epoch=50, stepsize=30, gamma=0.1, num_episode=5, beta=0.01, seed=1, gpu='0', use_cpu=False, evaluate=False, save_dir='log/summe-split', resume='', verbose=True, save_results=True)\n",
            "==========\n",
            "Currently using GPU 0\n",
            "Initialize dataset datasets/eccv16_dataset_summe_google_pool5.h5\n",
            "# total videos 25. # train videos 20. # test videos 5\n",
            "Initialize model\n",
            "==> Start training\n",
            "==> Test\n",
            "---  --------  -------\n",
            "No.  Video     F-score\n",
            "1    video_16  28.6%\n",
            "2    video_21  17.4%\n",
            "3    video_25  77.7%\n",
            "4    video_4   51.1%\n",
            "5    video_9   51.3%\n",
            "---  --------  -------\n",
            "Average F1-score 45.2%\n",
            "Average Kendal 0.15869911878068046\n",
            "Average Spear 0.21837868619381468\n",
            "Finished. Total elapsed time (h:m:s): 0:00:18\n",
            "Model saved to log/summe-split/summe_model_epoch_50_split_id_0-gru.pth.tar\n"
          ]
        }
      ]
    },
    {
      "cell_type": "code",
      "source": [
        "!python main.py -d datasets/eccv16_dataset_summe_google_pool5.h5 -s splits/summe_splits.json -m summe --gpu 0  --save-dir log/summe-split --split-id 0 --verbose --rnn-cell gru --max-epoch 50 --userscore datasets/summarizer_dataset_summe_google_pool5.h5 --save-results"
      ],
      "metadata": {
        "colab": {
          "base_uri": "https://localhost:8080/"
        },
        "id": "x6lI_9UdZ1n9",
        "outputId": "02f713af-78cb-43c7-a9ae-b48c20622660"
      },
      "execution_count": null,
      "outputs": [
        {
          "output_type": "stream",
          "name": "stdout",
          "text": [
            "==========\n",
            "Args:Namespace(dataset='datasets/eccv16_dataset_summe_google_pool5.h5', userscore='datasets/summarizer_dataset_summe_google_pool5.h5', split='splits/summe_splits.json', split_id=0, metric='summe', input_dim=1024, hidden_dim=512, num_layers=2, rnn_cell='gru', lr=1e-05, weight_decay=1e-05, max_epoch=50, stepsize=30, gamma=0.1, num_episode=5, beta=0.01, seed=1, gpu='0', use_cpu=False, evaluate=False, save_dir='log/summe-split', resume='', verbose=True, save_results=True)\n",
            "==========\n",
            "Currently using GPU 0\n",
            "Initialize dataset datasets/eccv16_dataset_summe_google_pool5.h5\n",
            "# total videos 25. # train videos 20. # test videos 5\n",
            "Initialize model\n",
            "==> Start training\n",
            "==> Test\n",
            "---  --------  -------\n",
            "No.  Video     F-score\n",
            "1    video_16  34.9%\n",
            "2    video_21  23.8%\n",
            "3    video_25  77.7%\n",
            "4    video_4   47.4%\n",
            "5    video_9   43.2%\n",
            "---  --------  -------\n",
            "Average F1-score 45.4%\n",
            "Average Kendal 0.13167372373610725\n",
            "Average Spear 0.17983777004468307\n",
            "Finished. Total elapsed time (h:m:s): 0:00:24\n",
            "Model saved to log/summe-split/summe_model_epoch_50_split_id_0-gru.pth.tar\n"
          ]
        }
      ]
    },
    {
      "cell_type": "code",
      "source": [
        "!python main.py -d datasets/eccv16_dataset_tvsum_google_pool5.h5 -s splits/tvsum_splits.json -m tvsum --gpu 0 --save-dir log/tvsum-split --split-id 0 --verbose --rnn-cell gru --max-epoch 50 --userscore datasets/summarizer_dataset_tvsum_google_pool5.h5 --save-results"
      ],
      "metadata": {
        "colab": {
          "base_uri": "https://localhost:8080/"
        },
        "id": "bYcqwQKLUaay",
        "outputId": "fb2fd3be-5114-40a9-b561-521cbfae32c7"
      },
      "execution_count": null,
      "outputs": [
        {
          "output_type": "stream",
          "name": "stdout",
          "text": [
            "==========\n",
            "Args:Namespace(dataset='datasets/eccv16_dataset_tvsum_google_pool5.h5', userscore='datasets/summarizer_dataset_tvsum_google_pool5.h5', split='splits/tvsum_splits.json', split_id=0, metric='tvsum', input_dim=1024, hidden_dim=512, num_layers=2, rnn_cell='gru', lr=1e-05, weight_decay=1e-05, max_epoch=50, stepsize=30, gamma=0.1, num_episode=5, beta=0.01, seed=1, gpu='0', use_cpu=False, evaluate=False, save_dir='log/tvsum-split', resume='', verbose=True, save_results=True)\n",
            "==========\n",
            "Currently using GPU 0\n",
            "Initialize dataset datasets/eccv16_dataset_tvsum_google_pool5.h5\n",
            "# total videos 50. # train videos 40. # test videos 10\n",
            "Initialize model\n",
            "==> Start training\n",
            "==> Test\n",
            "---  --------  -------\n",
            "No.  Video     F-score\n",
            "1    video_14  45.6%\n",
            "2    video_22  54.2%\n",
            "3    video_31  66.9%\n",
            "4    video_34  50.1%\n",
            "5    video_38  47.2%\n",
            "6    video_43  59.3%\n",
            "7    video_45  72.7%\n",
            "8    video_5   64.1%\n",
            "9    video_6   64.6%\n",
            "10   video_8   41.3%\n",
            "---  --------  -------\n",
            "Average F1-score 56.6%\n",
            "Average Kendal -0.0007922680765469495\n",
            "Average Spear 0.0003970753930132312\n",
            "Finished. Total elapsed time (h:m:s): 0:00:48\n",
            "Model saved to log/tvsum-split/tvsum_model_epoch_50_split_id_0-gru.pth.tar\n"
          ]
        }
      ]
    },
    {
      "cell_type": "code",
      "source": [
        "!python main.py -d datasets/eccv16_dataset_tvsum_google_pool5.h5 -s splits/tvsum_splits.json -m tvsum --gpu 0 --save-dir log/tvsum-split --split-id 0 --verbose --rnn-cell gru --max-epoch 50 --userscore datasets/summarizer_dataset_tvsum_google_pool5.h5 --save-results"
      ],
      "metadata": {
        "id": "EadG--15aDbS"
      },
      "execution_count": null,
      "outputs": []
    }
  ]
}