{
 "cells": [
  {
   "cell_type": "code",
   "execution_count": 3,
   "metadata": {},
   "outputs": [],
   "source": [
    "!pip install -qqq tabulate\n",
    "!pip install -qqq ortools"
   ]
  },
  {
   "cell_type": "code",
   "execution_count": 1,
   "metadata": {},
   "outputs": [],
   "source": [
    "# Importing necessary libraries\n",
    "\n",
    "from __future__ import print_function\n",
    "import os\n",
    "import os.path as osp\n",
    "import argparse\n",
    "import sys\n",
    "import h5py\n",
    "import time\n",
    "import datetime\n",
    "import numpy as np\n",
    "from tabulate import tabulate\n",
    "\n",
    "import torch\n",
    "import torch.nn as nn\n",
    "import torch.backends.cudnn as cudnn\n",
    "from torch.optim import lr_scheduler\n",
    "from torch.distributions import Bernoulli\n",
    "\n",
    "from utils import Logger, read_json, write_json, save_checkpoint\n",
    "from models import *\n",
    "from rewards import compute_reward\n",
    "import vsum_tools\n",
    "\n",
    "from scores.eval import generate_scores, evaluate_scores"
   ]
  },
  {
   "cell_type": "code",
   "execution_count": 5,
   "metadata": {},
   "outputs": [
    {
     "name": "stderr",
     "output_type": "stream",
     "text": [
      "usage: Pytorch code for unsupervised video summarization with REINFORCE\n",
      "       [-h] [-d DATASET] -us USERSCORE -s SPLIT [--split-id SPLIT_ID] -m\n",
      "       {tvsum,summe} [--input-dim INPUT_DIM] [--hidden-dim HIDDEN_DIM]\n",
      "       [--num-layers NUM_LAYERS] [--rnn-cell RNN_CELL] [--lr LR]\n",
      "       [--weight-decay WEIGHT_DECAY] [--max-epoch MAX_EPOCH]\n",
      "       [--stepsize STEPSIZE] [--gamma GAMMA] [--num-episode NUM_EPISODE]\n",
      "       [--beta BETA] [--seed SEED] [--gpu GPU] [--use-cpu] [--evaluate]\n",
      "       [--save-dir SAVE_DIR] [--resume RESUME] [--verbose] [--save-results]\n",
      "Pytorch code for unsupervised video summarization with REINFORCE: error: the following arguments are required: -us/--userscore, -s/--split, -m/--metric\n"
     ]
    },
    {
     "ename": "SystemExit",
     "evalue": "2",
     "output_type": "error",
     "traceback": [
      "An exception has occurred, use %tb to see the full traceback.\n",
      "\u001b[0;31mSystemExit\u001b[0m\u001b[0;31m:\u001b[0m 2\n"
     ]
    },
    {
     "name": "stderr",
     "output_type": "stream",
     "text": [
      "/Users/carbon/anaconda3/envs/tensorflow/lib/python3.10/site-packages/IPython/core/interactiveshell.py:3516: UserWarning: To exit: use 'exit', 'quit', or Ctrl-D.\n",
      "  warn(\"To exit: use 'exit', 'quit', or Ctrl-D.\", stacklevel=1)\n"
     ]
    }
   ],
   "source": [
    "parser = argparse.ArgumentParser(\"Pytorch code for unsupervised video summarization with REINFORCE\")\n",
    "# Dataset options\n",
    "parser.add_argument('-d', '--dataset', type=str, required=False, help=\"path to h5 dataset (required)\")\n",
    "parser.add_argument('-us', '--userscore', type=str, required=True, help=\"path to h5 of user's scores (required)\")\n",
    "parser.add_argument('-s', '--split', type=str, required=True, help=\"path to split file (required)\")\n",
    "parser.add_argument('--split-id', type=int, default=0, help=\"split index (default: 0)\")\n",
    "parser.add_argument('-m', '--metric', type=str, required=True, choices=['tvsum', 'summe'],\n",
    "                    help=\"evaluation metric ['tvsum', 'summe']\")\n",
    "# Model options\n",
    "parser.add_argument('--input-dim', type=int, default=1024, help=\"input dimension (default: 1024)\")\n",
    "parser.add_argument('--hidden-dim', type=int, default=512, help=\"hidden unit dimension of DSN (default: 256)\")\n",
    "parser.add_argument('--num-layers', type=int, default=2, help=\"number of RNN layers (default: 1)\")\n",
    "parser.add_argument('--rnn-cell', type=str, default='gru', help=\"RNN cell type (default: lstm)\")\n",
    "# Optimization options\n",
    "parser.add_argument('--lr', type=float, default=1e-05, help=\"learning rate (default: 1e-05)\")\n",
    "parser.add_argument('--weight-decay', type=float, default=1e-05, help=\"weight decay rate (default: 1e-05)\")\n",
    "parser.add_argument('--max-epoch', type=int, default=5, help=\"maximum epoch for training (default: 60)\")\n",
    "parser.add_argument('--stepsize', type=int, default=30, help=\"how many steps to decay learning rate (default: 30)\")\n",
    "parser.add_argument('--gamma', type=float, default=0.1, help=\"learning rate decay (default: 0.1)\")\n",
    "parser.add_argument('--num-episode', type=int, default=5, help=\"number of episodes (default: 5)\")\n",
    "parser.add_argument('--beta', type=float, default=0.01, help=\"weight for summary length penalty term (default: 0.01)\")\n",
    "# Misc\n",
    "parser.add_argument('--seed', type=int, default=1, help=\"random seed (default: 1)\")\n",
    "parser.add_argument('--gpu', type=str, default='0', help=\"which gpu devices to use\")\n",
    "parser.add_argument('--use-cpu', action='store_true', help=\"use cpu device\")\n",
    "parser.add_argument('--evaluate', action='store_true', help=\"whether to do evaluation only\")\n",
    "parser.add_argument('--save-dir', type=str, default='log', help=\"path to save output (default: 'log/')\")\n",
    "parser.add_argument('--resume', type=str, default='', help=\"path to resume file\")\n",
    "parser.add_argument('--verbose', action='store_true', help=\"whether to show detailed test results\")\n",
    "parser.add_argument('--save-results', action='store_true', help=\"whether to save output results\")\n",
    "\n",
    "args = parser.parse_args()\n",
    "\n",
    "torch.manual_seed(args.seed)\n",
    "os.environ['CUDA_VISIBLE_DEVICES'] = args.gpu\n",
    "use_gpu = torch.cuda.is_available()"
   ]
  }
 ],
 "metadata": {
  "kernelspec": {
   "display_name": "tensorflow",
   "language": "python",
   "name": "python3"
  },
  "language_info": {
   "codemirror_mode": {
    "name": "ipython",
    "version": 3
   },
   "file_extension": ".py",
   "mimetype": "text/x-python",
   "name": "python",
   "nbconvert_exporter": "python",
   "pygments_lexer": "ipython3",
   "version": "3.10.11"
  }
 },
 "nbformat": 4,
 "nbformat_minor": 2
}
